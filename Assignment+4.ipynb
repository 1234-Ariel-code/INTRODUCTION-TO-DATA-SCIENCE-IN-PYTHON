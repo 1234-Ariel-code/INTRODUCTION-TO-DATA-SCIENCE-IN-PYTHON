{
 "cells": [
  {
   "cell_type": "markdown",
   "metadata": {},
   "source": [
    "---\n",
    "\n",
    "_You are currently looking at **version 1.1** of this notebook. To download notebooks and datafiles, as well as get help on Jupyter notebooks in the Coursera platform, visit the [Jupyter Notebook FAQ](https://www.coursera.org/learn/python-data-analysis/resources/0dhYG) course resource._\n",
    "\n",
    "---"
   ]
  },
  {
   "cell_type": "code",
   "execution_count": 4,
   "metadata": {
    "collapsed": true
   },
   "outputs": [],
   "source": [
    "import pandas as pd\n",
    "import numpy as np\n",
    "from scipy.stats import ttest_ind"
   ]
  },
  {
   "cell_type": "markdown",
   "metadata": {},
   "source": [
    "# Assignment 4 - Hypothesis Testing\n",
    "This assignment requires more individual learning than previous assignments - you are encouraged to check out the [pandas documentation](http://pandas.pydata.org/pandas-docs/stable/) to find functions or methods you might not have used yet, or ask questions on [Stack Overflow](http://stackoverflow.com/) and tag them as pandas and python related. And of course, the discussion forums are open for interaction with your peers and the course staff.\n",
    "\n",
    "Definitions:\n",
    "* A _quarter_ is a specific three month period, Q1 is January through March, Q2 is April through June, Q3 is July through September, Q4 is October through December.\n",
    "* A _recession_ is defined as starting with two consecutive quarters of GDP decline, and ending with two consecutive quarters of GDP growth.\n",
    "* A _recession bottom_ is the quarter within a recession which had the lowest GDP.\n",
    "* A _university town_ is a city which has a high percentage of university students compared to the total population of the city.\n",
    "\n",
    "**Hypothesis**: University towns have their mean housing prices less effected by recessions. Run a t-test to compare the ratio of the mean price of houses in university towns the quarter before the recession starts compared to the recession bottom. (`price_ratio=quarter_before_recession/recession_bottom`)\n",
    "\n",
    "The following data files are available for this assignment:\n",
    "* From the [Zillow research data site](http://www.zillow.com/research/data/) there is housing data for the United States. In particular the datafile for [all homes at a city level](http://files.zillowstatic.com/research/public/City/City_Zhvi_AllHomes.csv), ```City_Zhvi_AllHomes.csv```, has median home sale prices at a fine grained level.\n",
    "* From the Wikipedia page on college towns is a list of [university towns in the United States](https://en.wikipedia.org/wiki/List_of_college_towns#College_towns_in_the_United_States) which has been copy and pasted into the file ```university_towns.txt```.\n",
    "* From Bureau of Economic Analysis, US Department of Commerce, the [GDP over time](http://www.bea.gov/national/index.htm#gdp) of the United States in current dollars (use the chained value in 2009 dollars), in quarterly intervals, in the file ```gdplev.xls```. For this assignment, only look at GDP data from the first quarter of 2000 onward.\n",
    "\n",
    "Each function in this assignment below is worth 10%, with the exception of ```run_ttest()```, which is worth 50%."
   ]
  },
  {
   "cell_type": "code",
   "execution_count": 5,
   "metadata": {
    "collapsed": true
   },
   "outputs": [],
   "source": [
    "# Use this dictionary to map state names to two letter acronyms\n",
    "states = {'OH': 'Ohio', 'KY': 'Kentucky', 'AS': 'American Samoa', 'NV': 'Nevada', 'WY': 'Wyoming', 'NA': 'National', 'AL': 'Alabama', 'MD': 'Maryland', 'AK': 'Alaska', 'UT': 'Utah', 'OR': 'Oregon', 'MT': 'Montana', 'IL': 'Illinois', 'TN': 'Tennessee', 'DC': 'District of Columbia', 'VT': 'Vermont', 'ID': 'Idaho', 'AR': 'Arkansas', 'ME': 'Maine', 'WA': 'Washington', 'HI': 'Hawaii', 'WI': 'Wisconsin', 'MI': 'Michigan', 'IN': 'Indiana', 'NJ': 'New Jersey', 'AZ': 'Arizona', 'GU': 'Guam', 'MS': 'Mississippi', 'PR': 'Puerto Rico', 'NC': 'North Carolina', 'TX': 'Texas', 'SD': 'South Dakota', 'MP': 'Northern Mariana Islands', 'IA': 'Iowa', 'MO': 'Missouri', 'CT': 'Connecticut', 'WV': 'West Virginia', 'SC': 'South Carolina', 'LA': 'Louisiana', 'KS': 'Kansas', 'NY': 'New York', 'NE': 'Nebraska', 'OK': 'Oklahoma', 'FL': 'Florida', 'CA': 'California', 'CO': 'Colorado', 'PA': 'Pennsylvania', 'DE': 'Delaware', 'NM': 'New Mexico', 'RI': 'Rhode Island', 'MN': 'Minnesota', 'VI': 'Virgin Islands', 'NH': 'New Hampshire', 'MA': 'Massachusetts', 'GA': 'Georgia', 'ND': 'North Dakota', 'VA': 'Virginia'}"
   ]
  },
  {
   "cell_type": "code",
   "execution_count": 16,
   "metadata": {
    "collapsed": true,
    "umich_part_id": "021",
    "umich_partlist_id": "004"
   },
   "outputs": [],
   "source": [
    "def get_list_of_university_towns():\n",
    "    '''Returns a DataFrame of towns and the states they are in from the \n",
    "    university_towns.txt list. The format of the DataFrame should be:\n",
    "    DataFrame( [ [\"Michigan\", \"Ann Arbor\"], [\"Michigan\", \"Yipsilanti\"] ], \n",
    "    columns=[\"State\", \"RegionName\"]  )\n",
    "    \n",
    "    The following cleaning needs to be done:\n",
    "\n",
    "    1. For \"State\", removing characters from \"[\" to the end.\n",
    "    2. For \"RegionName\", when applicable, removing every character from \" (\" to the end.\n",
    "    3. Depending on how you read the data, you may need to remove newline character '\\n'. '''\n",
    "    \n",
    "    f = open('university_towns.txt')\n",
    "    State=[]\n",
    "    RegionName=[]\n",
    "    statename=None\n",
    "    for line in f.readlines():\n",
    "        line = line.strip()\n",
    "        if line.endswith('[edit]'):\n",
    "            statename=line[:line.find('[')].strip()\n",
    "        else:\n",
    "            State.append(statename)\n",
    "            if line.find('(') != -1:\n",
    "                line = line[:line.find('(')]\n",
    "            RegionName.append(line.strip())\n",
    "            #RegionName.append(line[:line.find('(')].strip(''))\n",
    "    ans = pd.DataFrame({'State':State,'RegionName':RegionName},columns=['State','RegionName'])\n",
    "    return ans       #\"ANSWER\"\n",
    "    \n",
    "    "
   ]
  },
  {
   "cell_type": "code",
   "execution_count": 17,
   "metadata": {
    "collapsed": true,
    "umich_part_id": "022",
    "umich_partlist_id": "004"
   },
   "outputs": [],
   "source": [
    "def get_recession_start():\n",
    "    '''Returns the year and quarter of the recession start time as a \n",
    "    string value in a format such as 2005q3'''\n",
    "    \n",
    "    data = pd.read_excel('gdplev.xls',skiprows=8,header=None,names=['ayear','aGDPc','aGDP2009','na','year','GDPc','GDP2009','na2'])\n",
    "    data = pd.DataFrame(data,columns=['year','GDPc','GDP2009'])\n",
    "    data.set_index('year',inplace=True)\n",
    "    data = data.ix[-66::]\n",
    "    change = [0]\n",
    "    ans = None\n",
    "    for i in range(1,data.shape[0]):\n",
    "        if data['GDP2009'].values[i] - data['GDP2009'].values[i-1]>0:\n",
    "            change.append(1)\n",
    "        else:\n",
    "            change.append(-1)\n",
    "    for i in range(1,data.shape[0]-1):\n",
    "        if change[i]==-1 and change[i+1]==-1:\n",
    "            ans= data.index[i]\n",
    "            break\n",
    "    return ans      #\"ANSWER\"\n",
    "    \n",
    "    "
   ]
  },
  {
   "cell_type": "code",
   "execution_count": 18,
   "metadata": {
    "umich_part_id": "023",
    "umich_partlist_id": "004"
   },
   "outputs": [],
   "source": [
    "def get_recession_end():\n",
    "    '''Returns the year and quarter of the recession end time as a \n",
    "    string value in a format such as 2005q3'''\n",
    "    data = pd.read_excel('gdplev.xls',skiprows=8,header=None,names=['ayear','aGDPc','aGDP2009','na','year','GDPc','GDP2009','na2'])\n",
    "    \n",
    "    data = pd.DataFrame(data,columns=['year','GDPc','GDP2009'])\n",
    "    data.set_index('year',inplace=True)\n",
    "    data = data.ix[-66::]\n",
    "    change = [0]\n",
    "    ans = None\n",
    "    for i in range(1,data.shape[0]):\n",
    "        if data['GDP2009'].values[i] - data['GDP2009'].values[i-1]>0:\n",
    "            change.append(1)\n",
    "        else:\n",
    "            change.append(-1)\n",
    "    for i in range(1,data.shape[0]-1):\n",
    "        if change[i]==-1 and change[i+1]==-1:\n",
    "            for j in range(i+2,data.shape[0]-1):\n",
    "                if change[j]==1 and change[j+1]==1:\n",
    "                    ans = data.index[j+1]\n",
    "                    return ans       #\"ANSWER\"\n",
    "       \n",
    "  "
   ]
  },
  {
   "cell_type": "code",
   "execution_count": 19,
   "metadata": {
    "collapsed": true,
    "umich_part_id": "024",
    "umich_partlist_id": "004"
   },
   "outputs": [],
   "source": [
    "def get_recession_bottom():\n",
    "    '''Returns the year and quarter of the recession bottom time as a \n",
    "    string value in a format such as 2005q3'''\n",
    "    \n",
    "    data = pd.read_excel('gdplev.xls',skiprows=8,header=None,names=['ayear','aGDPc','aGDP2009','na','year','GDPc','GDP2009','na2'])\n",
    "    \n",
    "    data = pd.read_excel('gdplev.xls',skiprows=8,header=None,names=['ayear','aGDPc','aGDP2009','na','year','GDPc','GDP2009','na2'])\n",
    "    data = pd.DataFrame(data,columns=['year','GDPc','GDP2009'])\n",
    "    data.set_index('year',inplace=True)\n",
    "    data = data.ix[-66::]\n",
    "    start = list(data.index.values).index(get_recession_start())\n",
    "    end = list(data.index.values).index(get_recession_end())\n",
    "    ans = data.GDP2009[start:end].argmin()\n",
    "    return ans       #\"ANSWER\"\n",
    "    "
   ]
  },
  {
   "cell_type": "code",
   "execution_count": 23,
   "metadata": {
    "umich_part_id": "025",
    "umich_partlist_id": "004"
   },
   "outputs": [],
   "source": [
    "def convert_housing_data_to_quarters():\n",
    "    '''Converts the housing data to quarters and returns it as mean \n",
    "    values in a dataframe. This dataframe should be a dataframe with\n",
    "    columns for 2000q1 through 2016q3, and should have a multi-index\n",
    "    in the shape of [\"State\",\"RegionName\"].\n",
    "    \n",
    "    Note: Quarters are defined in the assignment description, they are\n",
    "    not arbitrary three month periods.\n",
    "    \n",
    "    The resulting dataframe should have 67 columns, and 10,730 rows.\n",
    "    '''\n",
    "    \n",
    "    years=[];\n",
    "    field=[\"State\",\"RegionName\"]\n",
    "    for i in ['2000-','2001-','2002-','2003-','2004-','2005-','2006-','2007-','2008-','2009-','2010-','2011-','2012-','2013-','2014-','2015-']:\n",
    "        for j in ['01','02','03','04','05','06','07','08','09','10','11','12']:\n",
    "            years.append(i+j)\n",
    "    for i in ['01','02','03','04','05','06','07','08']:\n",
    "        years.append('2016-'+i)\n",
    "    df = pd.read_csv('City_Zhvi_AllHomes.csv')\n",
    "    df1=pd.DataFrame(df,columns=field)\n",
    "    df = pd.DataFrame(df,columns=years)\n",
    "    \n",
    "    dic = dict(zip(years,years))\n",
    "    quarter = set()\n",
    "    for key in dic.keys():\n",
    "        if key.endswith('01') or key.endswith('02') or key.endswith('03'):\n",
    "            dic[key]=key[0:4]+'q1'\n",
    "        elif key.endswith('04') or key.endswith('05') or key.endswith('06'):\n",
    "            dic[key]=key[0:4]+'q2'\n",
    "        elif key.endswith('07') or key.endswith('08')or key.endswith('09'):\n",
    "            dic[key]=key[0:4]+'q3'\n",
    "        else:\n",
    "             dic[key]=key[0:4]+'q4'\n",
    "        quarter.add(dic[key])\n",
    "    df.rename(columns=dic,inplace=True)\n",
    "    grouped = df.groupby(df.columns, axis=1).mean()\n",
    "    df= pd.merge(df1,grouped,how='inner',left_index=True,right_index=True)\n",
    "    df['State']=df['State'].apply(lambda x :states[x])\n",
    "    df.set_index(field,inplace=True)\n",
    "    return df      #\"ANSWER\"\n",
    "   "
   ]
  },
  {
   "cell_type": "code",
   "execution_count": 26,
   "metadata": {
    "umich_part_id": "026",
    "umich_partlist_id": "004"
   },
   "outputs": [],
   "source": [
    "def run_ttest():\n",
    "    '''First creates new data showing the decline or growth of housing prices\n",
    "    between the recession start and the recession bottom. Then runs a ttest\n",
    "    comparing the university town values to the non-university towns values, \n",
    "    return whether the alternative hypothesis (that the two groups are the same)\n",
    "    is true or not as well as the p-value of the confidence. \n",
    "    \n",
    "    Return the tuple (different, p, better) where different=True if the t-test is\n",
    "    True at a p<0.01 (we reject the null hypothesis), or different=False if \n",
    "    otherwise (we cannot reject the null hypothesis). The variable p should\n",
    "    be equal to the exact p value returned from scipy.stats.ttest_ind(). The\n",
    "    value for better should be either \"university town\" or \"non-university town\"\n",
    "    depending on which has a lower mean price ratio (which is equivilent to a\n",
    "    reduced market loss).'''\n",
    "    \n",
    "    rec_start = '2008q2'\n",
    "    rec_bottom = get_recession_bottom()\n",
    "    df = convert_housing_data_to_quarters()\n",
    "    ut = get_list_of_university_towns()\n",
    "    ut.set_index(['State','RegionName'],inplace=True)\n",
    "    \n",
    "    dfut = pd.merge(df,ut,how='inner',left_index=True,right_index=True)\n",
    "    dfnut = df.drop(ut.index)\n",
    "    dfut = dfut.dropna()\n",
    "    dfnut = dfnut.dropna()\n",
    "    \n",
    "    nut_start = dfnut[rec_start]\n",
    "    nut_bottom = dfnut[rec_bottom]\n",
    "    ut_start = dfut[rec_start]\n",
    "    ut_bottom = dfut[rec_bottom]\n",
    "    ut_price_ratio = ut_start.divide(ut_bottom)\n",
    "    nut_price_ratio = nut_start.divide(nut_bottom)\n",
    "    \n",
    "    p = ttest_ind(ut_price_ratio, nut_price_ratio).pvalue\n",
    "    if ut_price_ratio.mean() > nut_price_ratio.mean():\n",
    "        better = \"non-university town\"\n",
    "    else:\n",
    "        better = \"university town\"\n",
    "\n",
    "    different = p<0.01\n",
    "    result  = (different, p, better)\n",
    "    \n",
    "    return result      #\"ANSWER\"\n",
    "    "
   ]
  },
  {
   "cell_type": "code",
   "execution_count": null,
   "metadata": {
    "collapsed": true
   },
   "outputs": [],
   "source": []
  }
 ],
 "metadata": {
  "coursera": {
   "course_slug": "python-data-analysis",
   "graded_item_id": "Il9Fx",
   "launcher_item_id": "TeDW0",
   "part_id": "WGlun"
  },
  "kernelspec": {
   "display_name": "Python 3",
   "language": "python",
   "name": "python3"
  },
  "language_info": {
   "codemirror_mode": {
    "name": "ipython",
    "version": 3
   },
   "file_extension": ".py",
   "mimetype": "text/x-python",
   "name": "python",
   "nbconvert_exporter": "python",
   "pygments_lexer": "ipython3",
   "version": "3.6.2"
  },
  "umich": {
   "id": "Assignment 4",
   "version": "1.1"
  }
 },
 "nbformat": 4,
 "nbformat_minor": 1
}
